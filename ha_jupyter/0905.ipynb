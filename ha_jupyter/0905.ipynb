{
 "cells": [
  {
   "cell_type": "code",
   "execution_count": 1,
   "id": "73b9dbfa",
   "metadata": {},
   "outputs": [],
   "source": [
    "import pandas as pd\n",
    "import matplotlib.pyplot as plt"
   ]
  },
  {
   "cell_type": "code",
   "execution_count": 2,
   "id": "48423344",
   "metadata": {},
   "outputs": [],
   "source": [
    "#데이터 불러오기\n",
    "df = pd.read_csv('C:/Users/hyha1/Documents/GitHub/AI_First_Project/customer_payment_data.csv', encoding='cp949')"
   ]
  },
  {
   "cell_type": "code",
   "execution_count": 3,
   "id": "719ca223",
   "metadata": {},
   "outputs": [
    {
     "data": {
      "text/html": [
       "<div>\n",
       "<style scoped>\n",
       "    .dataframe tbody tr th:only-of-type {\n",
       "        vertical-align: middle;\n",
       "    }\n",
       "\n",
       "    .dataframe tbody tr th {\n",
       "        vertical-align: top;\n",
       "    }\n",
       "\n",
       "    .dataframe thead th {\n",
       "        text-align: right;\n",
       "    }\n",
       "</style>\n",
       "<table border=\"1\" class=\"dataframe\">\n",
       "  <thead>\n",
       "    <tr style=\"text-align: right;\">\n",
       "      <th></th>\n",
       "      <th>날짜</th>\n",
       "      <th>전국_합계</th>\n",
       "      <th>전국_종합소매</th>\n",
       "      <th>전국_백화점</th>\n",
       "      <th>전국_대형마트/유통전문점</th>\n",
       "      <th>전국_슈퍼마켓</th>\n",
       "      <th>전국_편의점</th>\n",
       "      <th>전국_면세점</th>\n",
       "      <th>전국_전자상거래/통신판매</th>\n",
       "      <th>전국_식료품</th>\n",
       "      <th>...</th>\n",
       "      <th>기타_오락/문화</th>\n",
       "      <th>기타_스포츠/오락/여가</th>\n",
       "      <th>기타_서적/문구</th>\n",
       "      <th>기타_교육</th>\n",
       "      <th>기타_숙박/음식</th>\n",
       "      <th>기타_숙박</th>\n",
       "      <th>기타_음식점</th>\n",
       "      <th>기타_공과금/개인및전문서비스</th>\n",
       "      <th>기타_금융/보험</th>\n",
       "      <th>기타_기타</th>\n",
       "    </tr>\n",
       "  </thead>\n",
       "  <tbody>\n",
       "    <tr>\n",
       "      <th>0</th>\n",
       "      <td>2010/01</td>\n",
       "      <td>21112945</td>\n",
       "      <td>3896648</td>\n",
       "      <td>1046319</td>\n",
       "      <td>1970279</td>\n",
       "      <td>666373</td>\n",
       "      <td>70993</td>\n",
       "      <td>142685</td>\n",
       "      <td>1898278</td>\n",
       "      <td>395329</td>\n",
       "      <td>...</td>\n",
       "      <td>27837</td>\n",
       "      <td>21243</td>\n",
       "      <td>6594</td>\n",
       "      <td>13302</td>\n",
       "      <td>69028</td>\n",
       "      <td>6632</td>\n",
       "      <td>62397</td>\n",
       "      <td>20377</td>\n",
       "      <td>18873</td>\n",
       "      <td>39680</td>\n",
       "    </tr>\n",
       "    <tr>\n",
       "      <th>1</th>\n",
       "      <td>2010/02</td>\n",
       "      <td>20392319</td>\n",
       "      <td>3894444</td>\n",
       "      <td>910952</td>\n",
       "      <td>2098611</td>\n",
       "      <td>677879</td>\n",
       "      <td>80519</td>\n",
       "      <td>126482</td>\n",
       "      <td>1767115</td>\n",
       "      <td>482663</td>\n",
       "      <td>...</td>\n",
       "      <td>19883</td>\n",
       "      <td>14896</td>\n",
       "      <td>4987</td>\n",
       "      <td>10585</td>\n",
       "      <td>50427</td>\n",
       "      <td>4577</td>\n",
       "      <td>45850</td>\n",
       "      <td>16992</td>\n",
       "      <td>15326</td>\n",
       "      <td>29696</td>\n",
       "    </tr>\n",
       "    <tr>\n",
       "      <th>2</th>\n",
       "      <td>2010/03</td>\n",
       "      <td>23524772</td>\n",
       "      <td>4263787</td>\n",
       "      <td>1114037</td>\n",
       "      <td>2205886</td>\n",
       "      <td>707834</td>\n",
       "      <td>79535</td>\n",
       "      <td>156494</td>\n",
       "      <td>2044895</td>\n",
       "      <td>413017</td>\n",
       "      <td>...</td>\n",
       "      <td>22555</td>\n",
       "      <td>16596</td>\n",
       "      <td>5959</td>\n",
       "      <td>9283</td>\n",
       "      <td>49034</td>\n",
       "      <td>4180</td>\n",
       "      <td>44854</td>\n",
       "      <td>14920</td>\n",
       "      <td>14943</td>\n",
       "      <td>27852</td>\n",
       "    </tr>\n",
       "    <tr>\n",
       "      <th>3</th>\n",
       "      <td>2010/04</td>\n",
       "      <td>22218264</td>\n",
       "      <td>3957763</td>\n",
       "      <td>1045405</td>\n",
       "      <td>1984126</td>\n",
       "      <td>701029</td>\n",
       "      <td>77647</td>\n",
       "      <td>149556</td>\n",
       "      <td>1870235</td>\n",
       "      <td>410024</td>\n",
       "      <td>...</td>\n",
       "      <td>20910</td>\n",
       "      <td>16962</td>\n",
       "      <td>3948</td>\n",
       "      <td>6478</td>\n",
       "      <td>44476</td>\n",
       "      <td>4163</td>\n",
       "      <td>40313</td>\n",
       "      <td>13653</td>\n",
       "      <td>13627</td>\n",
       "      <td>50027</td>\n",
       "    </tr>\n",
       "    <tr>\n",
       "      <th>4</th>\n",
       "      <td>2010/05</td>\n",
       "      <td>23036621</td>\n",
       "      <td>4348950</td>\n",
       "      <td>1140185</td>\n",
       "      <td>2209669</td>\n",
       "      <td>753995</td>\n",
       "      <td>84775</td>\n",
       "      <td>160326</td>\n",
       "      <td>1907634</td>\n",
       "      <td>449972</td>\n",
       "      <td>...</td>\n",
       "      <td>21654</td>\n",
       "      <td>18185</td>\n",
       "      <td>3469</td>\n",
       "      <td>6945</td>\n",
       "      <td>45323</td>\n",
       "      <td>4022</td>\n",
       "      <td>41301</td>\n",
       "      <td>13291</td>\n",
       "      <td>12978</td>\n",
       "      <td>27804</td>\n",
       "    </tr>\n",
       "  </tbody>\n",
       "</table>\n",
       "<p>5 rows × 739 columns</p>\n",
       "</div>"
      ],
      "text/plain": [
       "        날짜     전국_합계  전국_종합소매   전국_백화점  전국_대형마트/유통전문점  전국_슈퍼마켓  전국_편의점  \\\n",
       "0  2010/01  21112945  3896648  1046319        1970279   666373   70993   \n",
       "1  2010/02  20392319  3894444   910952        2098611   677879   80519   \n",
       "2  2010/03  23524772  4263787  1114037        2205886   707834   79535   \n",
       "3  2010/04  22218264  3957763  1045405        1984126   701029   77647   \n",
       "4  2010/05  23036621  4348950  1140185        2209669   753995   84775   \n",
       "\n",
       "   전국_면세점  전국_전자상거래/통신판매  전국_식료품  ...  기타_오락/문화  기타_스포츠/오락/여가  기타_서적/문구  \\\n",
       "0  142685        1898278  395329  ...     27837         21243      6594   \n",
       "1  126482        1767115  482663  ...     19883         14896      4987   \n",
       "2  156494        2044895  413017  ...     22555         16596      5959   \n",
       "3  149556        1870235  410024  ...     20910         16962      3948   \n",
       "4  160326        1907634  449972  ...     21654         18185      3469   \n",
       "\n",
       "   기타_교육  기타_숙박/음식  기타_숙박  기타_음식점  기타_공과금/개인및전문서비스  기타_금융/보험  기타_기타  \n",
       "0  13302     69028   6632   62397            20377     18873  39680  \n",
       "1  10585     50427   4577   45850            16992     15326  29696  \n",
       "2   9283     49034   4180   44854            14920     14943  27852  \n",
       "3   6478     44476   4163   40313            13653     13627  50027  \n",
       "4   6945     45323   4022   41301            13291     12978  27804  \n",
       "\n",
       "[5 rows x 739 columns]"
      ]
     },
     "execution_count": 3,
     "metadata": {},
     "output_type": "execute_result"
    }
   ],
   "source": [
    "df.head()"
   ]
  },
  {
   "cell_type": "code",
   "execution_count": 5,
   "id": "d6b4932c",
   "metadata": {},
   "outputs": [
    {
     "name": "stdout",
     "output_type": "stream",
     "text": [
      "<class 'pandas.core.frame.DataFrame'>\n",
      "RangeIndex: 149 entries, 0 to 148\n",
      "Columns: 739 entries, 날짜 to 기타_기타\n",
      "dtypes: int64(738), object(1)\n",
      "memory usage: 860.4+ KB\n"
     ]
    }
   ],
   "source": [
    "df.info()"
   ]
  },
  {
   "cell_type": "code",
   "execution_count": 12,
   "id": "72d918a6",
   "metadata": {},
   "outputs": [
    {
     "name": "stdout",
     "output_type": "stream",
     "text": [
      "Index([], dtype='object')\n"
     ]
    },
    {
     "data": {
      "text/plain": [
       "0"
      ]
     },
     "execution_count": 12,
     "metadata": {},
     "output_type": "execute_result"
    }
   ],
   "source": [
    "col = df.columns\n",
    "print(col)\n",
    "len(col)"
   ]
  },
  {
   "cell_type": "code",
   "execution_count": null,
   "id": "bfeab3af",
   "metadata": {},
   "outputs": [],
   "source": []
  }
 ],
 "metadata": {
  "kernelspec": {
   "display_name": "Python 3 (ipykernel)",
   "language": "python",
   "name": "python3"
  },
  "language_info": {
   "codemirror_mode": {
    "name": "ipython",
    "version": 3
   },
   "file_extension": ".py",
   "mimetype": "text/x-python",
   "name": "python",
   "nbconvert_exporter": "python",
   "pygments_lexer": "ipython3",
   "version": "3.9.12"
  }
 },
 "nbformat": 4,
 "nbformat_minor": 5
}
